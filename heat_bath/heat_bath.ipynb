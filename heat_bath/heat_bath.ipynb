{
 "cells": [
  {
   "cell_type": "code",
   "execution_count": 1,
   "metadata": {
    "ExecuteTime": {
     "end_time": "2017-09-16T14:52:57.219771Z",
     "start_time": "2017-09-16T14:52:56.315324Z"
    },
    "collapsed": true
   },
   "outputs": [],
   "source": [
    "import math,random,os\n",
    "import numpy as np\n",
    "from scipy.optimize import leastsq\n",
    "import pandas as pd\n",
    "from matplotlib import pyplot as plt\n",
    "%matplotlib inline\n",
    "from numba import jit"
   ]
  },
  {
   "cell_type": "markdown",
   "metadata": {},
   "source": [
    "# Ising"
   ]
  },
  {
   "cell_type": "code",
   "execution_count": 2,
   "metadata": {
    "ExecuteTime": {
     "end_time": "2017-09-16T14:52:58.704880Z",
     "start_time": "2017-09-16T14:52:58.660229Z"
    },
    "collapsed": true
   },
   "outputs": [],
   "source": [
    "@jit\n",
    "def ising():\n",
    "    Ts = [1,1.2,1.4,1.6,1.8,2.0,2.1,2.2,2.3,2.4,2.6,2.8,3,3.25,3.5,3.75,4,4.25,4.5,4.75,5]\n",
    "    inpf = open('inp.txt','r')\n",
    "    for line in inpf:\n",
    "        L,eqsteps,nbins,nsamples = line.split()\n",
    "        for T in Ts:\n",
    "            LT_ising(int(L),float(T),int(eqsteps),int(nbins),int(nsamples))\n",
    "    inpf.close()"
   ]
  },
  {
   "cell_type": "code",
   "execution_count": 3,
   "metadata": {
    "ExecuteTime": {
     "end_time": "2017-09-16T14:52:58.947029Z",
     "start_time": "2017-09-16T14:52:58.925988Z"
    },
    "collapsed": true
   },
   "outputs": [],
   "source": [
    "@jit\n",
    "def LT_ising(L,T,eqsteps,nbins,nsamples):\n",
    "    \n",
    "    N,beta,S,nbr = init(L,T)\n",
    "    \n",
    "    S = eq(N,beta,S,nbr,eqsteps)\n",
    "    \n",
    "    for ib in range(nbins):\n",
    "        \n",
    "        wirte_pro(L,T,ib)\n",
    "        \n",
    "        m_av,m2_av,E_av,E2_av = 0,0,0,0\n",
    "        \n",
    "        for isa in range(nsamples):\n",
    "            S = heat_bath(N,beta,S,nbr)\n",
    "            m_av,m2_av,E_av,E2_av = observable(N,S,nbr,m_av,m2_av,E_av,E2_av)\n",
    "        \n",
    "        writebin(m_av,m2_av,E_av,E2_av,nsamples,L,T)"
   ]
  },
  {
   "cell_type": "code",
   "execution_count": 4,
   "metadata": {
    "ExecuteTime": {
     "end_time": "2017-09-16T14:52:59.119002Z",
     "start_time": "2017-09-16T14:52:59.107477Z"
    },
    "collapsed": true
   },
   "outputs": [],
   "source": [
    "def init(L,T):\n",
    "    N = L * L\n",
    "    beta = 1 / T\n",
    "    \n",
    "    conf = np.full(N,1)\n",
    "    nbr = {i : ((i // L) * L + (i + 1) % L, (i + L) % N,\n",
    "            (i // L) * L + (i - 1) % L, (i - L) % N) \\\n",
    "                                    for i in range(N)}\n",
    "    \n",
    "    return N,beta,conf,nbr"
   ]
  },
  {
   "cell_type": "code",
   "execution_count": 5,
   "metadata": {
    "ExecuteTime": {
     "end_time": "2017-09-16T14:52:59.306471Z",
     "start_time": "2017-09-16T14:52:59.298478Z"
    },
    "collapsed": true
   },
   "outputs": [],
   "source": [
    "def metroplis(N,beta,conf,nbr):\n",
    "    k = random.randint(0, N - 1)\n",
    "    delta_E = 2 * conf[k] * np.sum(conf[nb] for nb in nbr[k])\n",
    "    if random.uniform(0, 1) < math.exp(-beta * delta_E):\n",
    "        conf[k] *= -1\n",
    "    return conf"
   ]
  },
  {
   "cell_type": "code",
   "execution_count": 6,
   "metadata": {
    "ExecuteTime": {
     "end_time": "2017-09-16T14:52:59.508526Z",
     "start_time": "2017-09-16T14:52:59.498500Z"
    },
    "collapsed": true
   },
   "outputs": [],
   "source": [
    "@jit\n",
    "def heat_bath(N,beta,conf,nbr):\n",
    "    k = random.randint(0, N - 1)\n",
    "    Upsilon = random.uniform(0.0, 1.0)\n",
    "    h = sum(S[nn] for nn in nbr[k])\n",
    "    Sk_old = S[k]\n",
    "    S[k] = -1\n",
    "    if Upsilon < 1.0 / (1.0 + math.exp(-2.0 * beta * h)):\n",
    "        S[k] = 1\n",
    "    \n",
    "    k = random.randint(0, N - 1)\n",
    "    new_conf = conf[:]\n",
    "    new_conf[k] *= -1\n",
    "    E_old = energy(conf,N,nbr)\n",
    "    E_new = energy(conf,N,nbr)\n",
    "    if random.uniform(0,1) < E_new / (E_new + E_old):\n",
    "        conf = new_conf\n",
    "    return conf"
   ]
  },
  {
   "cell_type": "code",
   "execution_count": 7,
   "metadata": {
    "ExecuteTime": {
     "end_time": "2017-09-16T14:52:59.814849Z",
     "start_time": "2017-09-16T14:52:59.790278Z"
    },
    "collapsed": true
   },
   "outputs": [],
   "source": [
    "@jit\n",
    "def wollf(N,beta,conf,nbr):\n",
    "    p  = 1.0 - math.exp(-2.0 * beta)\n",
    "    k = random.randint(0, N - 1)\n",
    "    \n",
    "    Pocket, Cluster = [k], [k]\n",
    "    while Pocket != []:\n",
    "        j = random.choice(Pocket)\n",
    "        for l in nbr[j]:\n",
    "            if conf[l] == conf[j] and l not in Cluster \\\n",
    "                   and random.uniform(0,1) < p:\n",
    "                Pocket.append(l)\n",
    "                Cluster.append(l)\n",
    "        Pocket.remove(j)\n",
    "\n",
    "    for j in Cluster:\n",
    "        conf[j] *= -1\n",
    "    \n",
    "    return conf"
   ]
  },
  {
   "cell_type": "code",
   "execution_count": 8,
   "metadata": {
    "ExecuteTime": {
     "end_time": "2017-09-16T14:53:00.016929Z",
     "start_time": "2017-09-16T14:53:00.008406Z"
    },
    "collapsed": true
   },
   "outputs": [],
   "source": [
    "@jit\n",
    "def eq(N,beta,conf,nbr,eqsteps):\n",
    "    for eqstep in range(eqsteps):\n",
    "        conf = heat_bath(N,beta,conf,nbr)\n",
    "    return conf"
   ]
  },
  {
   "cell_type": "code",
   "execution_count": 9,
   "metadata": {
    "ExecuteTime": {
     "end_time": "2017-09-16T14:53:00.198941Z",
     "start_time": "2017-09-16T14:53:00.189917Z"
    },
    "collapsed": true
   },
   "outputs": [],
   "source": [
    "def wirte_pro(L,T,ib):\n",
    "    pf = open('process.txt','a')\n",
    "    pf.write('running L={} T={} ib = {}'.format(L,T,ib) + '\\n')\n",
    "    pf.close()"
   ]
  },
  {
   "cell_type": "code",
   "execution_count": 10,
   "metadata": {
    "ExecuteTime": {
     "end_time": "2017-09-16T14:53:00.388489Z",
     "start_time": "2017-09-16T14:53:00.373949Z"
    },
    "collapsed": true
   },
   "outputs": [],
   "source": [
    "@jit\n",
    "def observable(N,conf,bnr,m_av,m2_av,E_av,E2_av):\n",
    "    m_tot = np.sum(conf)\n",
    "    rem = abs(m_tot) / N\n",
    "    nbs = energy(conf,N,bnr)\n",
    "    enr = nbs / N\n",
    "    \n",
    "    m_av +=rem\n",
    "    m2_av += rem*rem\n",
    "    E_av += enr\n",
    "    E2_av += enr*enr\n",
    "    \n",
    "    return m_av,m2_av,E_av,E2_av"
   ]
  },
  {
   "cell_type": "code",
   "execution_count": 11,
   "metadata": {
    "ExecuteTime": {
     "end_time": "2017-09-16T14:53:00.570471Z",
     "start_time": "2017-09-16T14:53:00.564958Z"
    },
    "collapsed": true
   },
   "outputs": [],
   "source": [
    "def energy(conf,N,nbr):\n",
    "    E = 0\n",
    "    for n in range(N):\n",
    "         E -=  conf[n] * np.sum(conf[nb] for nb in nbr[n])\n",
    "    return 0.5 * E"
   ]
  },
  {
   "cell_type": "code",
   "execution_count": 12,
   "metadata": {
    "ExecuteTime": {
     "end_time": "2017-09-16T14:53:00.777524Z",
     "start_time": "2017-09-16T14:53:00.756967Z"
    },
    "collapsed": true
   },
   "outputs": [],
   "source": [
    "@jit\n",
    "def writebin(m_av,m2_av,E_av,E2_av,nsamples,L,T):\n",
    "    m_av = m_av / nsamples\n",
    "    m2_av = m2_av / nsamples\n",
    "    q = m2_av / (m_av**2)\n",
    "    \n",
    "    E_av = E_av / nsamples\n",
    "    E2_av = E2_av / nsamples\n",
    "    cv = (E2_av - E_av**2) * (L*L / T**2)\n",
    "    \n",
    "   \n",
    "    bin = open('{}_bin.csv'.format(L),'a')\n",
    "    strbin = str(L) + ',' + str(T) + ',' \\\n",
    "            + str(m_av) + ',' + str(E_av) + ','  \\\n",
    "            + str(cv) + ',' + str(q) \n",
    "    bin.write(strbin + '\\n')\n",
    "    bin.close()"
   ]
  },
  {
   "cell_type": "code",
   "execution_count": null,
   "metadata": {
    "collapsed": true
   },
   "outputs": [],
   "source": []
  },
  {
   "cell_type": "markdown",
   "metadata": {},
   "source": [
    "# Result"
   ]
  },
  {
   "cell_type": "code",
   "execution_count": 13,
   "metadata": {
    "ExecuteTime": {
     "end_time": "2017-09-16T14:53:01.300429Z",
     "start_time": "2017-09-16T14:53:01.292908Z"
    },
    "collapsed": true
   },
   "outputs": [],
   "source": [
    "@jit\n",
    "def res():\n",
    "    inte_dat()\n",
    "    bin = pd.read_csv('bin.csv',index_col=False,dtype=float)\n",
    "    Ls = [2,4,8,16,32,64]\n",
    "    for L in Ls:\n",
    "        result(L,bin)"
   ]
  },
  {
   "cell_type": "code",
   "execution_count": 14,
   "metadata": {
    "ExecuteTime": {
     "end_time": "2017-09-16T14:53:01.567165Z",
     "start_time": "2017-09-16T14:53:01.554606Z"
    },
    "collapsed": true
   },
   "outputs": [],
   "source": [
    "def inte_dat():\n",
    "    datf = open('bin.csv','a')\n",
    "    Ls = [2,4,8,16,32,64]\n",
    "    datf.write('1'+','+'2' + ',' + '3' + ',' + '4' + ',' + '5' + ',' + '6' + '\\n')\n",
    "    for L in Ls:\n",
    "        dat_Lf = open('{}_bin.csv'.format(L),'r')\n",
    "        dat_L = dat_Lf.read()\n",
    "        datf.write(dat_L)\n",
    "        dat_Lf.close()"
   ]
  },
  {
   "cell_type": "code",
   "execution_count": 15,
   "metadata": {
    "ExecuteTime": {
     "end_time": "2017-09-16T14:53:01.753634Z",
     "start_time": "2017-09-16T14:53:01.739597Z"
    },
    "collapsed": true
   },
   "outputs": [],
   "source": [
    "@jit\n",
    "def result(L,bin):\n",
    "    wpr(L)\n",
    "    nb = 10\n",
    "    df = bin[bin['1']==L]\n",
    "    Ts = [1,1.2,1.4,1.6,1.8,2.0,2.1,2.2,2.3,2.4,2.6,2.8,3,3.25,3.5,3.75,4,4.25,4.5,4.75,5]\n",
    "    for T in Ts:\n",
    "        df_t = df[df['2']==T]\n",
    "        ds_t = df_t.describe()\n",
    "        write_result(ds_t,T,L)"
   ]
  },
  {
   "cell_type": "code",
   "execution_count": 16,
   "metadata": {
    "ExecuteTime": {
     "end_time": "2017-09-16T14:53:01.934117Z",
     "start_time": "2017-09-16T14:53:01.926103Z"
    },
    "collapsed": true
   },
   "outputs": [],
   "source": [
    "def wpr(L):\n",
    "    pf = open('process.txt','a')\n",
    "    pf.write('resulting L = {}'.format(L) + '\\n')\n",
    "    pf.close()"
   ]
  },
  {
   "cell_type": "code",
   "execution_count": 17,
   "metadata": {
    "ExecuteTime": {
     "end_time": "2017-09-16T14:53:02.131276Z",
     "start_time": "2017-09-16T14:53:02.122747Z"
    },
    "collapsed": true
   },
   "outputs": [],
   "source": [
    "def write_result(ds_t,T,L):\n",
    "    write_m(ds_t,T,L)\n",
    "    write_e(ds_t,T,L)\n",
    "    write_cv(ds_t,T,L)\n",
    "    write_q(ds_t,T,L) "
   ]
  },
  {
   "cell_type": "code",
   "execution_count": 18,
   "metadata": {
    "ExecuteTime": {
     "end_time": "2017-09-16T14:53:02.316737Z",
     "start_time": "2017-09-16T14:53:02.305232Z"
    },
    "collapsed": true
   },
   "outputs": [],
   "source": [
    "def write_m(ds_t,T,L):\n",
    "    f = open('m_{}.dat'.format(L),'a')\n",
    "    f.write(str(T) + ',' + str(ds_t['3']['mean']) + ',' + str(ds_t['3']['std']) + '\\n')    \n",
    "    f.close()"
   ]
  },
  {
   "cell_type": "code",
   "execution_count": 19,
   "metadata": {
    "ExecuteTime": {
     "end_time": "2017-09-16T14:53:02.494797Z",
     "start_time": "2017-09-16T14:53:02.488279Z"
    },
    "collapsed": true
   },
   "outputs": [],
   "source": [
    "def write_e(ds_t,T,L):\n",
    "    f = open('E_{}.dat'.format(L),'a')\n",
    "    f.write(str(T) + ',' + str(ds_t['4']['mean']) + ',' + str(ds_t['4']['std']) + '\\n')    \n",
    "    f.close()"
   ]
  },
  {
   "cell_type": "code",
   "execution_count": 20,
   "metadata": {
    "ExecuteTime": {
     "end_time": "2017-09-16T14:53:03.065815Z",
     "start_time": "2017-09-16T14:53:03.059326Z"
    },
    "collapsed": true
   },
   "outputs": [],
   "source": [
    "def write_cv(ds_t,T,L):\n",
    "    f = open('c_{}.dat'.format(L),'a')\n",
    "    f.write(str(T) + ',' + str(ds_t['5']['mean']) + ',' + str(ds_t['5']['std']) + '\\n')    \n",
    "    f.close()"
   ]
  },
  {
   "cell_type": "code",
   "execution_count": 21,
   "metadata": {
    "ExecuteTime": {
     "end_time": "2017-09-16T14:53:03.167588Z",
     "start_time": "2017-09-16T14:53:03.101438Z"
    },
    "collapsed": true
   },
   "outputs": [],
   "source": [
    "def write_q(ds_t,T,L):\n",
    "    f = open('q_{}.dat'.format(L),'a')\n",
    "    f.write(str(T) + ',' + str(ds_t['6']['mean']) + ',' + str(ds_t['6']['std']) + '\\n')    \n",
    "    f.close()"
   ]
  },
  {
   "cell_type": "code",
   "execution_count": null,
   "metadata": {
    "ExecuteTime": {
     "end_time": "2017-09-16T07:16:27.645023Z",
     "start_time": "2017-09-16T07:16:27.634996Z"
    },
    "collapsed": true
   },
   "outputs": [],
   "source": []
  },
  {
   "cell_type": "markdown",
   "metadata": {},
   "source": [
    "# Plot"
   ]
  },
  {
   "cell_type": "code",
   "execution_count": 22,
   "metadata": {
    "ExecuteTime": {
     "end_time": "2017-09-16T14:53:03.277382Z",
     "start_time": "2017-09-16T14:53:03.218751Z"
    },
    "collapsed": true
   },
   "outputs": [],
   "source": [
    "@jit\n",
    "def plot():\n",
    "    superstition()\n",
    "    \n",
    "    a_s = ['m','E','c','q']\n",
    "    for a in a_s:\n",
    "        plot_a(a)\n",
    "        \n",
    "    finish()"
   ]
  },
  {
   "cell_type": "code",
   "execution_count": 23,
   "metadata": {
    "ExecuteTime": {
     "end_time": "2017-09-16T14:53:03.389192Z",
     "start_time": "2017-09-16T14:53:03.282895Z"
    },
    "collapsed": true
   },
   "outputs": [],
   "source": [
    "def superstition():\n",
    "    pf = open('process.txt','a')\n",
    "    pf.write('FINALLY ploting' + '\\n')\n",
    "    pf.write('God Bless Me!!!' + '\\n')\n",
    "    pf.close()"
   ]
  },
  {
   "cell_type": "code",
   "execution_count": 24,
   "metadata": {
    "ExecuteTime": {
     "end_time": "2017-09-16T14:53:03.776708Z",
     "start_time": "2017-09-16T14:53:03.759163Z"
    },
    "collapsed": true
   },
   "outputs": [],
   "source": [
    "def plot_a(a):\n",
    "    plt.figure(dpi=1024)\n",
    "    plt.xlabel('$T$',fontsize=14)\n",
    "    plt.ylabel('${}$'.format(a),fontsize=14)\n",
    "    plt.title('${}-T$'.format(a),fontsize=14)\n",
    "    \n",
    "    Ls = [2,4,8,16,32,64]\n",
    "    for L in Ls:\n",
    "        Ts,a_avs,a_sigmas = read_res(a,L)\n",
    "        plt.errorbar(Ts,a_avs,yerr=a_sigmas,label='${}\\\\times{}$'.format(L,L))\n",
    "        \n",
    "    plt.legend(fontsize='large')\n",
    "    plt.savefig('{}.png'.format(a),dpi=1024)"
   ]
  },
  {
   "cell_type": "code",
   "execution_count": 25,
   "metadata": {
    "ExecuteTime": {
     "end_time": "2017-09-16T14:53:03.986303Z",
     "start_time": "2017-09-16T14:53:03.971231Z"
    },
    "collapsed": true
   },
   "outputs": [],
   "source": [
    "@jit\n",
    "def read_res(a,L):\n",
    "    Ts,a_avs,a_sigmas = [],[],[]\n",
    "    f = open('{}_{}.dat'.format(a,str(L)))\n",
    "    for line in f:\n",
    "        T,a_av,a_sigma = line.split(',')\n",
    "        Ts.append(float(T))\n",
    "        a_avs.append(float(a_av))\n",
    "        a_sigmas.append(float(a_sigma))\n",
    "    f.close()\n",
    "    return Ts,a_avs,a_sigmas"
   ]
  },
  {
   "cell_type": "code",
   "execution_count": 26,
   "metadata": {
    "ExecuteTime": {
     "end_time": "2017-09-16T14:53:04.182862Z",
     "start_time": "2017-09-16T14:53:04.172330Z"
    },
    "collapsed": true
   },
   "outputs": [],
   "source": [
    "def finish():\n",
    "    pf = open('process.txt','a')\n",
    "    pf.write('FINISHED' + '\\n')\n",
    "    \n",
    "    a = input(\"right or wrong?\")\n",
    "    pf.write(a)\n",
    "    \n",
    "    pf.close()"
   ]
  },
  {
   "cell_type": "markdown",
   "metadata": {},
   "source": [
    "# fit"
   ]
  },
  {
   "cell_type": "code",
   "execution_count": 27,
   "metadata": {
    "ExecuteTime": {
     "end_time": "2017-09-16T14:53:04.580420Z",
     "start_time": "2017-09-16T14:53:04.571898Z"
    },
    "collapsed": true
   },
   "outputs": [],
   "source": [
    "def fit():\n",
    "    q,T,L = read_q()\n",
    "    p0=[2.5,1,1,1,1,1,1]\n",
    "    Para=leastsq(error,p0,args=(T,L,q,s))\n",
    "    write_fit(Para)"
   ]
  },
  {
   "cell_type": "code",
   "execution_count": 28,
   "metadata": {
    "ExecuteTime": {
     "end_time": "2017-09-16T14:53:04.991624Z",
     "start_time": "2017-09-16T14:53:04.978115Z"
    },
    "collapsed": true
   },
   "outputs": [],
   "source": [
    "@jit\n",
    "def read_q():\n",
    "    Ls = np.array([2,4,8,16,32,64])\n",
    "    Ts = np.array([1.8,2.0,2.1,2.2,2.3,2.4,2.6,2.8])\n",
    "    q  = np.empty((len(Ls),len(Ts)))\n",
    "    for L in Ls:\n",
    "        qlf = open('q_{}.dat'.format(L))\n",
    "        for line in qlf:\n",
    "            T,q_av,sigma_q = line.split()\n",
    "            q[Ts.index(T),Ls.index(L)] = q_av\n",
    "    return q,Ts,Ls"
   ]
  },
  {
   "cell_type": "code",
   "execution_count": 29,
   "metadata": {
    "ExecuteTime": {
     "end_time": "2017-09-16T14:53:05.172603Z",
     "start_time": "2017-09-16T14:53:05.165113Z"
    },
    "collapsed": true
   },
   "outputs": [],
   "source": [
    "def func(p,T,L):\n",
    "    Tc,qc,a0,v,a1,u1,w1 = p\n",
    "    return qc + a0 * (T - Tc) * L**(1/v) +a1 * u1 * L**(-w1)"
   ]
  },
  {
   "cell_type": "code",
   "execution_count": 30,
   "metadata": {
    "ExecuteTime": {
     "end_time": "2017-09-16T14:53:05.478026Z",
     "start_time": "2017-09-16T14:53:05.403324Z"
    },
    "collapsed": true
   },
   "outputs": [],
   "source": [
    "def fit_error(p,T,L,q,s='Test the number of iteration'):\n",
    "    #print (s)\n",
    "    return func(p,T,L)-q"
   ]
  },
  {
   "cell_type": "code",
   "execution_count": 31,
   "metadata": {
    "ExecuteTime": {
     "end_time": "2017-09-16T14:53:05.752781Z",
     "start_time": "2017-09-16T14:53:05.745743Z"
    },
    "collapsed": true
   },
   "outputs": [],
   "source": [
    "def write_fit(Para):\n",
    "    p_str = ['Tc','qc','a0','v','a1','u1','w1']\n",
    "    fitf = open('fit.txt','w')\n",
    "    for ip in p_str:\n",
    "        fitf.write(ip + str(Para[p_str.index(p)]) + '\\n')\n",
    "    fitf.close()"
   ]
  },
  {
   "cell_type": "code",
   "execution_count": null,
   "metadata": {
    "collapsed": true
   },
   "outputs": [],
   "source": []
  },
  {
   "cell_type": "markdown",
   "metadata": {},
   "source": [
    "# Run"
   ]
  },
  {
   "cell_type": "code",
   "execution_count": 32,
   "metadata": {
    "ExecuteTime": {
     "end_time": "2017-09-16T14:53:09.068880Z",
     "start_time": "2017-09-16T14:53:09.063866Z"
    },
    "collapsed": true
   },
   "outputs": [],
   "source": [
    "def run():\n",
    "    ising()\n",
    "    res()\n",
    "    plot()"
   ]
  },
  {
   "cell_type": "code",
   "execution_count": 33,
   "metadata": {
    "ExecuteTime": {
     "end_time": "2017-09-17T01:07:28.326440Z",
     "start_time": "2017-09-16T14:53:23.607283Z"
    }
   },
   "outputs": [
    {
     "name": "stderr",
     "output_type": "stream",
     "text": [
      "C:\\Users\\zhang\\Anaconda3\\lib\\site-packages\\ipykernel_launcher.py:2: RuntimeWarning: invalid value encountered in double_scalars\n",
      "  \n"
     ]
    },
    {
     "ename": "KeyboardInterrupt",
     "evalue": "",
     "output_type": "error",
     "traceback": [
      "\u001b[1;31m---------------------------------------------------------------------------\u001b[0m",
      "\u001b[1;31mKeyboardInterrupt\u001b[0m                         Traceback (most recent call last)",
      "\u001b[1;32m<ipython-input-33-157c9bda2cd6>\u001b[0m in \u001b[0;36m<module>\u001b[1;34m()\u001b[0m\n\u001b[1;32m----> 1\u001b[1;33m \u001b[0mrun\u001b[0m\u001b[1;33m(\u001b[0m\u001b[1;33m)\u001b[0m\u001b[1;33m\u001b[0m\u001b[0m\n\u001b[0m",
      "\u001b[1;32m<ipython-input-32-0b8c0ff4122c>\u001b[0m in \u001b[0;36mrun\u001b[1;34m()\u001b[0m\n\u001b[0;32m      1\u001b[0m \u001b[1;32mdef\u001b[0m \u001b[0mrun\u001b[0m\u001b[1;33m(\u001b[0m\u001b[1;33m)\u001b[0m\u001b[1;33m:\u001b[0m\u001b[1;33m\u001b[0m\u001b[0m\n\u001b[1;32m----> 2\u001b[1;33m     \u001b[0mising\u001b[0m\u001b[1;33m(\u001b[0m\u001b[1;33m)\u001b[0m\u001b[1;33m\u001b[0m\u001b[0m\n\u001b[0m\u001b[0;32m      3\u001b[0m     \u001b[0mres\u001b[0m\u001b[1;33m(\u001b[0m\u001b[1;33m)\u001b[0m\u001b[1;33m\u001b[0m\u001b[0m\n\u001b[0;32m      4\u001b[0m     \u001b[0mplot\u001b[0m\u001b[1;33m(\u001b[0m\u001b[1;33m)\u001b[0m\u001b[1;33m\u001b[0m\u001b[0m\n",
      "\u001b[1;32m<ipython-input-11-ee37384d7dde>\u001b[0m in \u001b[0;36menergy\u001b[1;34m(conf, N, nbr)\u001b[0m\n\u001b[0;32m      2\u001b[0m     \u001b[0mE\u001b[0m \u001b[1;33m=\u001b[0m \u001b[1;36m0\u001b[0m\u001b[1;33m\u001b[0m\u001b[0m\n\u001b[0;32m      3\u001b[0m     \u001b[1;32mfor\u001b[0m \u001b[0mn\u001b[0m \u001b[1;32min\u001b[0m \u001b[0mrange\u001b[0m\u001b[1;33m(\u001b[0m\u001b[0mN\u001b[0m\u001b[1;33m)\u001b[0m\u001b[1;33m:\u001b[0m\u001b[1;33m\u001b[0m\u001b[0m\n\u001b[1;32m----> 4\u001b[1;33m          \u001b[0mE\u001b[0m \u001b[1;33m-=\u001b[0m  \u001b[0mconf\u001b[0m\u001b[1;33m[\u001b[0m\u001b[0mn\u001b[0m\u001b[1;33m]\u001b[0m \u001b[1;33m*\u001b[0m \u001b[0mnp\u001b[0m\u001b[1;33m.\u001b[0m\u001b[0msum\u001b[0m\u001b[1;33m(\u001b[0m\u001b[0mconf\u001b[0m\u001b[1;33m[\u001b[0m\u001b[0mnb\u001b[0m\u001b[1;33m]\u001b[0m \u001b[1;32mfor\u001b[0m \u001b[0mnb\u001b[0m \u001b[1;32min\u001b[0m \u001b[0mnbr\u001b[0m\u001b[1;33m[\u001b[0m\u001b[0mn\u001b[0m\u001b[1;33m]\u001b[0m\u001b[1;33m)\u001b[0m\u001b[1;33m\u001b[0m\u001b[0m\n\u001b[0m\u001b[0;32m      5\u001b[0m     \u001b[1;32mreturn\u001b[0m \u001b[1;36m0.5\u001b[0m \u001b[1;33m*\u001b[0m \u001b[0mE\u001b[0m\u001b[1;33m\u001b[0m\u001b[0m\n",
      "\u001b[1;31mKeyboardInterrupt\u001b[0m: "
     ]
    }
   ],
   "source": [
    "run()"
   ]
  },
  {
   "cell_type": "code",
   "execution_count": null,
   "metadata": {
    "collapsed": true
   },
   "outputs": [],
   "source": []
  }
 ],
 "metadata": {
  "kernelspec": {
   "display_name": "Python 3",
   "language": "python",
   "name": "python3"
  },
  "language_info": {
   "codemirror_mode": {
    "name": "ipython",
    "version": 3
   },
   "file_extension": ".py",
   "mimetype": "text/x-python",
   "name": "python",
   "nbconvert_exporter": "python",
   "pygments_lexer": "ipython3",
   "version": "3.6.1"
  },
  "toc": {
   "colors": {
    "hover_highlight": "#DAA520",
    "navigate_num": "#000000",
    "navigate_text": "#333333",
    "running_highlight": "#FF0000",
    "selected_highlight": "#FFD700",
    "sidebar_border": "#EEEEEE",
    "wrapper_background": "#FFFFFF"
   },
   "moveMenuLeft": true,
   "nav_menu": {
    "height": "12px",
    "width": "252px"
   },
   "navigate_menu": true,
   "number_sections": true,
   "sideBar": true,
   "threshold": 4,
   "toc_cell": false,
   "toc_position": {
    "height": "511px",
    "left": "0px",
    "right": "1051.33px",
    "top": "74px",
    "width": "212px"
   },
   "toc_section_display": "block",
   "toc_window_display": true,
   "widenNotebook": false
  }
 },
 "nbformat": 4,
 "nbformat_minor": 2
}
